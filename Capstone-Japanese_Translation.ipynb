{
 "cells": [
  {
   "cell_type": "markdown",
   "metadata": {},
   "source": [
    "# Japanese Translation with NLP\n",
    "\n",
    "\n",
    "## Introduction\n",
    "In this noteboook, a recurrent deep neural network will be built to translate Japanese to English.\n",
    "The completed pipeline will accept Japanese text as input and return the English translation.\n",
    "\n",
    "- **Preprocess** - You'll convert text to sequence of integers.\n",
    "- **Models** Create models which accepts a sequence of integers as input and returns a probability distribution over possible translations. After learning about the basic types of neural networks that are often used for machine translation, you will engage in your own investigations, to design your own model!\n",
    "- **Prediction** Run the model on English text."
   ]
  },
  {
   "cell_type": "code",
   "execution_count": 1,
   "metadata": {},
   "outputs": [
    {
     "name": "stderr",
     "output_type": "stream",
     "text": [
      "Using TensorFlow backend.\n"
     ]
    }
   ],
   "source": [
    "import collections\n",
    "\n",
    "#import helper\n",
    "import os\n",
    "import numpy as np\n",
    "#import project_tests as tests\n",
    "\n",
    "from keras.preprocessing.text import Tokenizer\n",
    "from keras.preprocessing.sequence import pad_sequences\n",
    "from keras.models import Model, load_model\n",
    "from keras.layers import GRU, Input, Dense, TimeDistributed, Activation, RepeatVector, Bidirectional, Dropout\n",
    "from keras.layers.embeddings import Embedding\n",
    "from keras.optimizers import Adam\n",
    "from keras.losses import sparse_categorical_crossentropy"
   ]
  },
  {
   "cell_type": "code",
   "execution_count": 2,
   "metadata": {},
   "outputs": [
    {
     "name": "stdout",
     "output_type": "stream",
     "text": [
      "[name: \"/device:CPU:0\"\n",
      "device_type: \"CPU\"\n",
      "memory_limit: 268435456\n",
      "locality {\n",
      "}\n",
      "incarnation: 17513906185758037602\n",
      "]\n"
     ]
    }
   ],
   "source": [
    "from tensorflow.python.client import device_lib\n",
    "print(device_lib.list_local_devices())"
   ]
  },
  {
   "cell_type": "markdown",
   "metadata": {},
   "source": [
    "https://github.com/odashi/small_parallel_enja"
   ]
  },
  {
   "cell_type": "markdown",
   "metadata": {},
   "source": [
    "## Dataset\n",
    "The corpus for this project is provided by Stanford University's Japanese English Subtitle Corpus (https://nlp.stanford.edu/projects/jesc/). THe full raw data set contains over 3 million sample sentences of Japanese and their English translation. The authors of the corpus have take the liberty to pre-tokenize the testing and training data set for ease of use.\n",
    "\n",
    "\n",
    "@ARTICLE{pryzant_jesc_2017,\n",
    "   author = {{Pryzant}, R. and {Chung}, Y. and {Jurafsky}, D. and {Britz}, D.},\n",
    "    title = \"{JESC: Japanese-English Subtitle Corpus}\",\n",
    "  journal = {ArXiv e-prints},\n",
    "archivePrefix = \"arXiv\",\n",
    "   eprint = {1710.10639},\n",
    " keywords = {Computer Science - Computation and Language},\n",
    "     year = 2017,\n",
    "    month = oct,\n",
    "}                \n",
    "    \n",
    "\n",
    "### Load Data\n",
    "The data is located in `data/*`. The tokenized training data sets are in `data/tokenzed/train.en` and `data/tokenized/train.ja` which contain the English sentences with their Japanese translations "
   ]
  },
  {
   "cell_type": "code",
   "execution_count": 3,
   "metadata": {},
   "outputs": [],
   "source": [
    "def load_data(path):\n",
    "    \"\"\"\n",
    "    Load dataset\n",
    "    \"\"\"\n",
    "    input_file = os.path.join(path)\n",
    "    with open(input_file, \"r\", encoding=\"utf-8\") as f:\n",
    "        data = f.read()\n",
    "    return data.split('\\n')\n"
   ]
  },
  {
   "cell_type": "code",
   "execution_count": 4,
   "metadata": {},
   "outputs": [
    {
     "name": "stdout",
     "output_type": "stream",
     "text": [
      "Dataset Loaded\n"
     ]
    }
   ],
   "source": [
    "# Load English data\n",
    "en_sent_token_train = load_data('data/odashi/train.en')\n",
    "en_sent_token_test = load_data('data/odashi/test.en')\n",
    "\n",
    "# Load Japanese data\n",
    "ja_sent_token_train = load_data('data/odashi/train.ja')\n",
    "ja_sent_token_test = load_data('data/odashi/test.ja')\n",
    "\n",
    "print('Dataset Loaded')\n"
   ]
  },
  {
   "cell_type": "code",
   "execution_count": 5,
   "metadata": {},
   "outputs": [
    {
     "name": "stdout",
     "output_type": "stream",
     "text": [
      "-----------TRAINING DATASET-----------\n",
      "Japanese Sentence Line 1:  誰 が 一番 に 着 く か 私 に は 分か り ま せ ん 。\n",
      "English Sentence Line 1:  i can 't tell who will arrive first .\n",
      "Japanese Sentence Line 2:  多く の 動物 が 人間 に よ っ て 滅ぼ さ れ た 。\n",
      "English Sentence Line 2:  many animals have been destroyed by men .\n",
      "Japanese Sentence Line 3:  私 は テニス 部員 で す 。\n",
      "English Sentence Line 3:  i 'm in the tennis club .\n",
      "-----------TESTING DATASET-----------\n",
      "Japanese Sentence Line 1:  彼 ら は つい に それ が 真実 だ と 認め た 。\n",
      "English Sentence Line 1:  they finally acknowledged it as true .\n",
      "Japanese Sentence Line 2:  彼 は 水泳 が 得意 で は な かっ た 。\n",
      "English Sentence Line 2:  he didn 't care for swimming .\n",
      "Japanese Sentence Line 3:  彼 は お 姉 さん に 劣 ら ず 親切 だ 。\n",
      "English Sentence Line 3:  he is no less kind than his sister .\n"
     ]
    }
   ],
   "source": [
    "#for sample_i in range(3):\n",
    "#    print('Japanese Sentence Line {}:  {}'.format(sample_i + 1, ja_sent_raw[sample_i]))\n",
    "#    print('English Sentence Line {}:  {}'.format(sample_i + 1, en_sent_raw[sample_i]))\n",
    "    \n",
    "print(\"-----------TRAINING DATASET-----------\")\n",
    "for sample_i in range(3):    \n",
    "    print('Japanese Sentence Line {}:  {}'.format(sample_i + 1, ja_sent_token_train[sample_i]))\n",
    "    print('English Sentence Line {}:  {}'.format(sample_i + 1, en_sent_token_train[sample_i]))\n",
    "    \n",
    "print(\"-----------TESTING DATASET-----------\")\n",
    "for sample_i in range(3):    \n",
    "    print('Japanese Sentence Line {}:  {}'.format(sample_i + 1, ja_sent_token_test[sample_i]))\n",
    "    print('English Sentence Line {}:  {}'.format(sample_i + 1, en_sent_token_test[sample_i]))\n",
    "    "
   ]
  },
  {
   "cell_type": "markdown",
   "metadata": {},
   "source": [
    "### Vocabulary\n",
    "Since Japanese does not take into account spaces between word or vocabulary. Simple split functions will not be able to be applied to distinguish words.  The tokenized dataset provided in the JESC adds the space between words, as well as underscores to distinguish beginning of words with characters."
   ]
  },
  {
   "cell_type": "code",
   "execution_count": 6,
   "metadata": {
    "scrolled": true
   },
   "outputs": [
    {
     "name": "stdout",
     "output_type": "stream",
     "text": [
      "391047 English tokens.\n",
      "6634 unique English tokens.\n",
      "20 Most common tokens in the English dataset:\n",
      "\".\" \"the\" \"i\" \"to\" \"you\" \"is\" \"he\" \"a\" \"?\" \"in\" \"it\" \"of\" \"she\" \"for\" \"my\" \"have\" \"'t\" \"this\" \"was\" \"me\"\n",
      "\n",
      "565618 Japanese tokens.\n",
      "8774 unique Japanese tokens.\n",
      "20 Most common tokens in the Japanese dataset:\n",
      "\"。\" \"は\" \"い\" \"に\" \"た\" \"を\" \"の\" \"て\" \"で\" \"な\" \"が\" \"彼\" \"し\" \"る\" \"私\" \"す\" \"っ\" \"ま\" \"か\" \"だ\"\n"
     ]
    }
   ],
   "source": [
    "en_words_counter = collections.Counter([word for sentence in en_sent_token_train for word in sentence.split()])\n",
    "ja_words_counter = collections.Counter([word for sentence in ja_sent_token_train for word in sentence.split()])\n",
    "\n",
    "print('{} English tokens.'.format(len([word for sentence in en_sent_token_train for word in sentence.split()])))\n",
    "print('{} unique English tokens.'.format(len(en_words_counter)))\n",
    "print('20 Most common tokens in the English dataset:')\n",
    "print('\"' + '\" \"'.join(list(zip(*en_words_counter.most_common(20)))[0]) + '\"')\n",
    "print()\n",
    "print('{} Japanese tokens.'.format(len([word for sentence in ja_sent_token_train for word in sentence.split()])))\n",
    "print('{} unique Japanese tokens.'.format(len(ja_words_counter)))\n",
    "print('20 Most common tokens in the Japanese dataset:')\n",
    "print('\"' + '\" \"'.join(list(zip(*ja_words_counter.most_common(20)))[0]) + '\"')"
   ]
  },
  {
   "cell_type": "code",
   "execution_count": 8,
   "metadata": {},
   "outputs": [
    {
     "data": {
      "text/html": [
       "<div>\n",
       "<style scoped>\n",
       "    .dataframe tbody tr th:only-of-type {\n",
       "        vertical-align: middle;\n",
       "    }\n",
       "\n",
       "    .dataframe tbody tr th {\n",
       "        vertical-align: top;\n",
       "    }\n",
       "\n",
       "    .dataframe thead th {\n",
       "        text-align: right;\n",
       "    }\n",
       "</style>\n",
       "<table border=\"1\" class=\"dataframe\">\n",
       "  <thead>\n",
       "    <tr style=\"text-align: right;\">\n",
       "      <th></th>\n",
       "      <th>en_tokens</th>\n",
       "      <th>en_counts</th>\n",
       "      <th>jp_tokens</th>\n",
       "      <th>jp_counts</th>\n",
       "    </tr>\n",
       "  </thead>\n",
       "  <tbody>\n",
       "    <tr>\n",
       "      <th>0</th>\n",
       "      <td>.</td>\n",
       "      <td>43687</td>\n",
       "      <td>。</td>\n",
       "      <td>49522</td>\n",
       "    </tr>\n",
       "    <tr>\n",
       "      <th>1</th>\n",
       "      <td>the</td>\n",
       "      <td>14383</td>\n",
       "      <td>は</td>\n",
       "      <td>35916</td>\n",
       "    </tr>\n",
       "    <tr>\n",
       "      <th>2</th>\n",
       "      <td>i</td>\n",
       "      <td>13276</td>\n",
       "      <td>い</td>\n",
       "      <td>26846</td>\n",
       "    </tr>\n",
       "    <tr>\n",
       "      <th>3</th>\n",
       "      <td>to</td>\n",
       "      <td>11472</td>\n",
       "      <td>に</td>\n",
       "      <td>19870</td>\n",
       "    </tr>\n",
       "    <tr>\n",
       "      <th>4</th>\n",
       "      <td>you</td>\n",
       "      <td>8872</td>\n",
       "      <td>た</td>\n",
       "      <td>19205</td>\n",
       "    </tr>\n",
       "    <tr>\n",
       "      <th>5</th>\n",
       "      <td>is</td>\n",
       "      <td>8545</td>\n",
       "      <td>を</td>\n",
       "      <td>16870</td>\n",
       "    </tr>\n",
       "    <tr>\n",
       "      <th>6</th>\n",
       "      <td>he</td>\n",
       "      <td>8401</td>\n",
       "      <td>の</td>\n",
       "      <td>16581</td>\n",
       "    </tr>\n",
       "    <tr>\n",
       "      <th>7</th>\n",
       "      <td>a</td>\n",
       "      <td>7986</td>\n",
       "      <td>て</td>\n",
       "      <td>14014</td>\n",
       "    </tr>\n",
       "    <tr>\n",
       "      <th>8</th>\n",
       "      <td>?</td>\n",
       "      <td>5942</td>\n",
       "      <td>で</td>\n",
       "      <td>13108</td>\n",
       "    </tr>\n",
       "    <tr>\n",
       "      <th>9</th>\n",
       "      <td>in</td>\n",
       "      <td>4791</td>\n",
       "      <td>な</td>\n",
       "      <td>11978</td>\n",
       "    </tr>\n",
       "    <tr>\n",
       "      <th>10</th>\n",
       "      <td>it</td>\n",
       "      <td>4583</td>\n",
       "      <td>が</td>\n",
       "      <td>11631</td>\n",
       "    </tr>\n",
       "    <tr>\n",
       "      <th>11</th>\n",
       "      <td>of</td>\n",
       "      <td>4212</td>\n",
       "      <td>彼</td>\n",
       "      <td>11426</td>\n",
       "    </tr>\n",
       "    <tr>\n",
       "      <th>12</th>\n",
       "      <td>she</td>\n",
       "      <td>3742</td>\n",
       "      <td>し</td>\n",
       "      <td>10766</td>\n",
       "    </tr>\n",
       "    <tr>\n",
       "      <th>13</th>\n",
       "      <td>for</td>\n",
       "      <td>3532</td>\n",
       "      <td>る</td>\n",
       "      <td>10353</td>\n",
       "    </tr>\n",
       "    <tr>\n",
       "      <th>14</th>\n",
       "      <td>my</td>\n",
       "      <td>3292</td>\n",
       "      <td>私</td>\n",
       "      <td>10053</td>\n",
       "    </tr>\n",
       "  </tbody>\n",
       "</table>\n",
       "</div>"
      ],
      "text/plain": [
       "   en_tokens  en_counts jp_tokens  jp_counts\n",
       "0          .      43687         。      49522\n",
       "1        the      14383         は      35916\n",
       "2          i      13276         い      26846\n",
       "3         to      11472         に      19870\n",
       "4        you       8872         た      19205\n",
       "5         is       8545         を      16870\n",
       "6         he       8401         の      16581\n",
       "7          a       7986         て      14014\n",
       "8          ?       5942         で      13108\n",
       "9         in       4791         な      11978\n",
       "10        it       4583         が      11631\n",
       "11        of       4212         彼      11426\n",
       "12       she       3742         し      10766\n",
       "13       for       3532         る      10353\n",
       "14        my       3292         私      10053"
      ]
     },
     "execution_count": 8,
     "metadata": {},
     "output_type": "execute_result"
    }
   ],
   "source": [
    "import seaborn as sns\n",
    "import pandas as pd\n",
    "\n",
    "en_tokens = list(zip(*en_words_counter.most_common(15)))[0]\n",
    "en_counts = list(zip(*en_words_counter.most_common(15)))[1]\n",
    "jp_tokens = list(zip(*ja_words_counter.most_common(15)))[0]\n",
    "jp_counts = list(zip(*ja_words_counter.most_common(15)))[1]\n",
    "token_df = pd.DataFrame(list(zip(en_tokens,en_counts,jp_tokens, jp_counts)), columns=['en_tokens', 'en_counts', 'jp_tokens','jp_counts'])\n",
    "token_df\n",
    "\n"
   ]
  },
  {
   "cell_type": "code",
   "execution_count": 9,
   "metadata": {},
   "outputs": [
    {
     "data": {
      "text/plain": [
       "(0, 50000)"
      ]
     },
     "execution_count": 9,
     "metadata": {},
     "output_type": "execute_result"
    },
    {
     "data": {
      "image/png": "[encoded data removed]",
      "text/plain": [
       "<Figure size 432x288 with 1 Axes>"
      ]
     },
     "metadata": {},
     "output_type": "display_data"
    }
   ],
   "source": [
    "sns.set_style(\"darkgrid\")\n",
    "ax = sns.barplot(x=\"en_counts\", y=\"en_tokens\", data=token_df)\n",
    "ax.set(xlabel='Token Count', ylabel='English Tokens')\n",
    "ax.set_title('Top 15 English Tokens')\n",
    "ax.set_xlim(0,50000)"
   ]
  },
  {
   "cell_type": "code",
   "execution_count": 10,
   "metadata": {},
   "outputs": [
    {
     "data": {
      "text/plain": [
       "(0, 50000)"
      ]
     },
     "execution_count": 10,
     "metadata": {},
     "output_type": "execute_result"
    },
    {
     "data": {
      "image/png": "[encoded data removed]",
      "text/plain": [
       "<Figure size 432x288 with 1 Axes>"
      ]
     },
     "metadata": {},
     "output_type": "display_data"
    }
   ],
   "source": [
    "sns.set_style(\"darkgrid\")\n",
    "ax = sns.barplot(x=\"jp_counts\", y=\"jp_tokens\", data=token_df)\n",
    "ax.set(xlabel='Token Count', ylabel='Japanese Tokens')\n",
    "ax.set_title('Top 15 Japanese Tokens')\n",
    "ax.set_xlim(0,50000)"
   ]
  },
  {
   "cell_type": "markdown",
   "metadata": {},
   "source": [
    "## Preprocess\n",
    "For this project, you won't use text data as input to your model. Instead, you'll convert the text into sequences of integers using the following preprocess methods:\n",
    "1. Tokenize the words into ids\n",
    "2. Add padding to make all the sequences the same length.\n",
    "\n",
    "Time to start preprocessing the data...\n",
    "### Tokenize (IMPLEMENTATION)\n",
    "For a neural network to predict on text data, it first has to be turned into data it can understand. Text data like \"dog\" is a sequence of ASCII character encodings.  Since a neural network is a series of multiplication and addition operations, the input data needs to be number(s).\n",
    "\n",
    "We can turn each character into a number or each word into a number.  These are called character and word ids, respectively.  Character ids are used for character level models that generate text predictions for each character.  A word level model uses word ids that generate text predictions for each word.  Word level models tend to learn better, since they are lower in complexity, so we'll use those.\n",
    "\n",
    "Turn each sentence into a sequence of words ids using Keras's [`Tokenizer`](https://keras.io/preprocessing/text/#tokenizer) function. Use this function to tokenize `english_sentences` and `french_sentences` in the cell below.\n",
    "\n",
    "Running the cell will run `tokenize` on sample data and show output for debugging."
   ]
  },
  {
   "cell_type": "code",
   "execution_count": 11,
   "metadata": {},
   "outputs": [
    {
     "name": "stdout",
     "output_type": "stream",
     "text": [
      "{'i': 1, 'can': 2, \"'t\": 3, 'tell': 4, 'who': 5, 'will': 6, 'arrive': 7, 'first': 8, 'many': 9, 'animals': 10, 'have': 11, 'been': 12, 'destroyed': 13, 'by': 14, 'men': 15, \"'m\": 16, 'in': 17, 'the': 18, 'tennis': 19, 'club': 20}\n",
      "\n",
      "Sequence 1 in x\n",
      "  Input:  i can 't tell who will arrive first .\n",
      "  Output: [1, 2, 3, 4, 5, 6, 7, 8]\n",
      "Sequence 2 in x\n",
      "  Input:  many animals have been destroyed by men .\n",
      "  Output: [9, 10, 11, 12, 13, 14, 15]\n",
      "Sequence 3 in x\n",
      "  Input:  i 'm in the tennis club .\n",
      "  Output: [1, 16, 17, 18, 19, 20]\n"
     ]
    }
   ],
   "source": [
    "def tokenize(x):\n",
    "    \"\"\"\n",
    "    Tokenize x\n",
    "    :param x: List of sentences/strings to be tokenized\n",
    "    :return: Tuple of (tokenized x data, tokenizer used to tokenize x)\n",
    "    \"\"\"\n",
    "    x_tk = Tokenizer() #tokenize to the word level\n",
    "    x_tk.fit_on_texts(x) #tokenize text x    \n",
    "    \n",
    "    return x_tk.texts_to_sequences(x), x_tk\n",
    "\n",
    "# Tokenize Example output\n",
    "text_sentences = en_sent_token_train[:3]\n",
    "#    [\n",
    "\n",
    "text_tokenized, text_tokenizer = tokenize(text_sentences)\n",
    "print(text_tokenizer.word_index)\n",
    "print()\n",
    "for sample_i, (sent, token_sent) in enumerate(zip(text_sentences, text_tokenized)):\n",
    "    print('Sequence {} in x'.format(sample_i + 1))\n",
    "    print('  Input:  {}'.format(sent))\n",
    "    print('  Output: {}'.format(token_sent))"
   ]
  },
  {
   "cell_type": "markdown",
   "metadata": {},
   "source": [
    "### Padding ("
   ]
  },
  {
   "cell_type": "code",
   "execution_count": 12,
   "metadata": {},
   "outputs": [
    {
     "name": "stdout",
     "output_type": "stream",
     "text": [
      "Sequence 1 in x\n",
      "  Input:  [1 2 3 4 5 6 7 8]\n",
      "  Output: [1 2 3 4 5 6 7 8]\n",
      "Sequence 2 in x\n",
      "  Input:  [ 9 10 11 12 13 14 15]\n",
      "  Output: [ 9 10 11 12 13 14 15  0]\n",
      "Sequence 3 in x\n",
      "  Input:  [ 1 16 17 18 19 20]\n",
      "  Output: [ 1 16 17 18 19 20  0  0]\n"
     ]
    }
   ],
   "source": [
    "def pad(x, length=None):\n",
    "    \"\"\"\n",
    "    Pad x\n",
    "    :param x: List of sequences.\n",
    "    :param length: Length to pad the sequence to.  If None, use length of longest sequence in x.\n",
    "    :return: Padded numpy array of sequences\n",
    "    \"\"\"\n",
    "    if length is None:\n",
    "        length = max([len(sentence) for sentence in x]) # set length equal to max sequence when there is no designated length value\n",
    "    padded_sequence = pad_sequences(x, maxlen=length, padding='post')  # add 0's after sequence until sequence reaches max length\n",
    "    return padded_sequence\n",
    "\n",
    "# Pad Tokenized output\n",
    "test_pad = pad(text_tokenized)\n",
    "for sample_i, (token_sent, pad_sent) in enumerate(zip(text_tokenized, test_pad)):\n",
    "    print('Sequence {} in x'.format(sample_i + 1))\n",
    "    print('  Input:  {}'.format(np.array(token_sent)))\n",
    "    print('  Output: {}'.format(pad_sent))"
   ]
  },
  {
   "cell_type": "markdown",
   "metadata": {},
   "source": [
    "### Preprocess Pipeline\n",
    "Your focus for this project is to build neural network architecture, so we won't ask you to create a preprocess pipeline.  Instead, we've provided you with the implementation of the `preprocess` function."
   ]
  },
  {
   "cell_type": "code",
   "execution_count": 13,
   "metadata": {
    "scrolled": true
   },
   "outputs": [
    {
     "name": "stdout",
     "output_type": "stream",
     "text": [
      "Data Preprocessed\n",
      "Max English sentence length: 15\n",
      "Max Japanese sentence length: 16\n",
      "English vocabulary size: 6547\n",
      "Japanese vocabulary size: 8774\n"
     ]
    }
   ],
   "source": [
    "def preprocess(x, y):\n",
    "    \"\"\"\n",
    "    Preprocess x and y\n",
    "    :param x: Feature List of sentences\n",
    "    :param y: Label List of sentences\n",
    "    :return: Tuple of (Preprocessed x, Preprocessed y, x tokenizer, y tokenizer)\n",
    "    \"\"\"\n",
    "    preprocess_x, x_tk = tokenize(x) # tokenize input x\n",
    "    preprocess_y, y_tk = tokenize(y) # tokenize input y\n",
    "\n",
    "    preprocess_x = pad(preprocess_x) # pad input tokenized x\n",
    "    preprocess_y = pad(preprocess_y) # pad input tokenized y\n",
    "\n",
    "    # Keras's sparse_categorical_crossentropy function requires the labels to be in 3 dimensions\n",
    "    preprocess_y = preprocess_y.reshape(*preprocess_y.shape, 1) # add third dimension '1'\n",
    "\n",
    "    return preprocess_x, preprocess_y, x_tk, y_tk\n",
    "\n",
    "preproc_ja_sentences, preproc_en_sentences, ja_tokenizer, en_tokenizer = preprocess(ja_sent_token_train, en_sent_token_train)\n",
    "\n",
    "max_en_sequence_length = preproc_en_sentences.shape[1]\n",
    "max_ja_sequence_length = preproc_ja_sentences.shape[1]\n",
    "en_vocab_size = len(en_tokenizer.word_index)\n",
    "ja_vocab_size = len(ja_tokenizer.word_index)\n",
    "\n",
    "print('Data Preprocessed')\n",
    "print(\"Max English sentence length:\", max_en_sequence_length)\n",
    "print(\"Max Japanese sentence length:\", max_ja_sequence_length)\n",
    "print(\"English vocabulary size:\", en_vocab_size)\n",
    "print(\"Japanese vocabulary size:\", ja_vocab_size)"
   ]
  },
  {
   "cell_type": "markdown",
   "metadata": {},
   "source": [
    "### Ids Back to Text\n",
    "The neural network will be translating the input to words ids, which isn't the final form we want.  We want the French translation.  The function `logits_to_text` will bridge the gab between the logits from the neural network to the French translation.  You'll be using this function to better understand the output of the neural network."
   ]
  },
  {
   "cell_type": "code",
   "execution_count": 14,
   "metadata": {},
   "outputs": [
    {
     "name": "stdout",
     "output_type": "stream",
     "text": [
      "`logits_to_text` function loaded.\n"
     ]
    }
   ],
   "source": [
    "def logits_to_text(logits, tokenizer):\n",
    "    \"\"\"\n",
    "    Turn logits from a neural network into text using the tokenizer\n",
    "    :param logits: Logits from a neural network\n",
    "    :param tokenizer: Keras Tokenizer fit on the labels\n",
    "    :return: String that represents the text of the logits\n",
    "    \"\"\"\n",
    "    index_to_words = {id: word for word, id in tokenizer.word_index.items()}\n",
    "    index_to_words[0] = '<PAD>'\n",
    "\n",
    "    return ' '.join([index_to_words[prediction] for prediction in np.argmax(logits, 1)])\n",
    "\n",
    "print('`logits_to_text` function loaded.')"
   ]
  },
  {
   "cell_type": "markdown",
   "metadata": {},
   "source": [
    "## Training the Model\n",
    "\n"
   ]
  },
  {
   "cell_type": "code",
   "execution_count": null,
   "metadata": {},
   "outputs": [],
   "source": [
    "def rnn_model(input_shape, output_sequence_length, ja_vocab_size, en_vocab_size):\n",
    "    \n",
    "    \n",
    "    #parameters\n",
    "    learning_rate = 0.001\n",
    "    \n",
    "    # Build the layers    \n",
    "    model = Sequential()\n",
    "    \n",
    "    #Embedding:\n",
    "    model.add(Embedding(input_dim=ja_vocab_size, output_dim=1000,  input_length=output_sequence_length, input_shape=input_shape[1:]))\n",
    "   \n",
    "\n",
    "    #ENCODER1   Add bidirectional recurrent layer\n",
    "    model.add(Bidirectional(GRU(1000)))\n",
    "    model.add(RepeatVector(output_sequence_length))\n",
    "              \n",
    "              \n",
    "   # Decoder 1\n",
    "    model.add(Bidirectional(GRU(1000, return_sequences=True)))\n",
    "    model.add(TimeDistributed(Dense(1000, activation='relu')))\n",
    "    model.add(Dropout(0.2))\n",
    "    \n",
    "    #ENCODER2   Add bidirectional recurrent layer\n",
    "    model.add(Bidirectional(GRU(1000)))\n",
    "    model.add(RepeatVector(output_sequence_length))     \n",
    "              \n",
    "   # Decoder 2\n",
    "    model.add(Bidirectional(GRU(1000, return_sequences=True)))\n",
    "    model.add(TimeDistributed(Dense(1000, activation='relu')))\n",
    "    model.add(Dropout(0.2))\n",
    "    \n",
    "    \n",
    "    model.add(TimeDistributed(Dense(en_vocab_size, activation='softmax')))\n",
    "    \n",
    "    model.compile(loss=sparse_categorical_crossentropy,\n",
    "                  optimizer=Adam(learning_rate),\n",
    "                  metrics=['accuracy'])\n",
    "    print(model.summary())\n",
    "    return model\n",
    "\n",
    "print('rnn_model')\n",
    "# Train the final model\n",
    "# Reshaping the input\n",
    "tmp_x = pad(preproc_ja_sentences, max_en_sequence_length)\n",
    "tmp_x = tmp_x.reshape((-1, preproc_en_sentences.shape[-2]))\n",
    "\n",
    "# Train the neural network\n",
    "rnn_model = rnn_model(\n",
    "    tmp_x.shape,\n",
    "    max_en_sequence_length,\n",
    "    ja_vocab_size,\n",
    "    en_vocab_size)\n",
    "rnn_model.fit(tmp_x, preproc_en_sentences, batch_size=1024, epochs=10, validation_split=0.2)\n",
    "\n",
    "\n",
    "#save the model\n",
    "rnn_model.save('model/rnn_model.h5')"
   ]
  },
  {
   "cell_type": "code",
   "execution_count": 21,
   "metadata": {},
   "outputs": [
    {
     "name": "stdout",
     "output_type": "stream",
     "text": [
      "Japanese Sentence:-- ['誰 が 一番 に 着 く か 私 に は 分か り ま せ ん 。']\n",
      "English Sentence:-- [\"i can 't tell who will arrive first .\"]\n",
      "Model Prediction:-- i don 't 't you will to to\n"
     ]
    }
   ],
   "source": [
    "\n",
    "#output = rnn_model.predict(tmp_x[:1])[0]\n",
    "text = \"i don 't 't you will to to <PAD> <PAD> <PAD> <PAD> <PAD> <PAD> <PAD>\"\n",
    "def translate(text):\n",
    "    result = logits_to_text(text, en_tokenizer)\n",
    "    result = result[:result.find(' <PAD>')]\n",
    "    return result\n",
    "\n",
    "# Print prediction(s)\n",
    "print(\"Japanese Sentence:--\", ja_sent_token_train[:1])\n",
    "print(\"English Sentence:--\", en_sent_token_train[:1])\n",
    "print(\"Model Prediction:--\", translate(text))"
   ]
  },
  {
   "cell_type": "markdown",
   "metadata": {},
   "source": [
    "### Validation Data"
   ]
  },
  {
   "cell_type": "code",
   "execution_count": 22,
   "metadata": {},
   "outputs": [
    {
     "data": {
      "text/plain": [
       "array([[ 28,   2, 398, ...,   0,   0,   0],\n",
       "       [  2, 401,  12, ...,   0,   0,   0],\n",
       "       [  2,  35, 403, ...,   0,   0,   0],\n",
       "       ...,\n",
       "       [ 28,   2,  24, ...,  23,   1,   0],\n",
       "       [  2,  59, 391, ...,  37,   4,   1],\n",
       "       [  6, 126, 884, ...,   0,   0,   0]])"
      ]
     },
     "execution_count": 22,
     "metadata": {},
     "output_type": "execute_result"
    }
   ],
   "source": [
    "preproc_ja_sentences_test, preproc_en_sentences_test, ja_tokenizer_test, en_tokenizer_test = preprocess(ja_sent_token_test, en_sent_token_test)\n",
    "\n",
    "\n",
    "val_x = pad(preproc_ja_sentences_test, max_en_sequence_length)\n",
    "val_x = val_x.reshape((-1, preproc_en_sentences_test.shape[-2]))\n",
    "\n",
    "output = rnn_model.predict(tmp_x[:1])[0]\n",
    "\n",
    "# Print prediction(s)\n",
    "print(\"Japanese Sentence:--\", ja_sent_token_test[:1])\n",
    "print(\"English Sentence:--\", en_sent_token_test[:1])\n",
    "print(\"Model Prediction:--\", translate(output))"
   ]
  },
  {
   "cell_type": "code",
   "execution_count": null,
   "metadata": {},
   "outputs": [],
   "source": [
    "#Calculate WER\n",
    "#https://martin-thoma.com/word-error-rate-calculation/\n",
    "def wer(r, h):\n",
    "    \"\"\"\n",
    "    Calculation of WER with Levenshtein distance.\n",
    "\n",
    "    Works only for iterables up to 254 elements (uint8).\n",
    "    O(nm) time ans space complexity.\n",
    "\n",
    "    Parameters\n",
    "    ----------\n",
    "    r : list\n",
    "    h : list\n",
    "\n",
    "    Returns\n",
    "    -------\n",
    "    int\n",
    "\n",
    "    Examples\n",
    "    --------\n",
    "    >>> wer(\"who is there\".split(), \"is there\".split())\n",
    "    1\n",
    "    >>> wer(\"who is there\".split(), \"\".split())\n",
    "    3\n",
    "    >>> wer(\"\".split(), \"who is there\".split())\n",
    "    3\n",
    "    \"\"\"\n",
    "    # initialisation\n",
    "    import numpy\n",
    "    d = numpy.zeros((len(r)+1)*(len(h)+1), dtype=numpy.uint8)\n",
    "    d = d.reshape((len(r)+1, len(h)+1))\n",
    "    for i in range(len(r)+1):\n",
    "        for j in range(len(h)+1):\n",
    "            if i == 0:\n",
    "                d[0][j] = j\n",
    "            elif j == 0:\n",
    "                d[i][0] = i\n",
    "\n",
    "    # computation\n",
    "    for i in range(1, len(r)+1):\n",
    "        for j in range(1, len(h)+1):\n",
    "            if r[i-1] == h[j-1]:\n",
    "                d[i][j] = d[i-1][j-1]\n",
    "            else:\n",
    "                substitution = d[i-1][j-1] + 1\n",
    "                insertion    = d[i][j-1] + 1\n",
    "                deletion     = d[i-1][j] + 1\n",
    "                d[i][j] = min(substitution, insertion, deletion)\n",
    "                \n",
    "    SDI = d[len(r)][len(h)]\n",
    "    N = len(set(r+h))\n",
    "    \n",
    "    return SDI/N\n"
   ]
  },
  {
   "cell_type": "code",
   "execution_count": null,
   "metadata": {},
   "outputs": [],
   "source": [
    "\"\"\"\n",
    "def bidirectional_rnn_dropout_model(input_shape, output_sequence_length, ja_vocab_size, en_vocab_size):\n",
    "    \n",
    "    learning_rate = 0.001\n",
    "    input_seq = Input(shape=(input_shape[1:]))\n",
    "    # Embedding() : https://keras.io/layers/embeddings/\n",
    "    embed = Embedding(input_dim=ja_vocab_size, output_dim=en_vocab_size,  input_length=output_sequence_length)(input_seq) \n",
    "   \n",
    "    #1 : Add bidirectional recurrent layer\n",
    "    bidir_rnn1 = Bidirectional(GRU(256, activation='relu',return_sequences=True, implementation=2,name='bidir_rnn'), merge_mode='concat')(embed)\n",
    "    #1 Dropout between hidden layers\n",
    "    rnn_drop1 = Dropout(0.2)(bidir_rnn1)\n",
    "    \n",
    "    #2 : Add bidirectional recurrent layer\n",
    "    bidir_rnn2 = Bidirectional(GRU(128, activation='relu',return_sequences=True, implementation=2,name='bidir_rnn'), merge_mode='concat')(rnn_drop1)\n",
    "    #2 Dropout between hidden layers\n",
    "    rnn_drop2 = Dropout(0.2)(bidir_rnn2)\n",
    "    \n",
    "    #3 : Add bidirectional recurrent layer\n",
    "    bidir_rnn3 = Bidirectional(GRU(64, activation='relu',return_sequences=True, implementation=2,name='bidir_rnn'), merge_mode='concat')(rnn_drop2)\n",
    "    #3 Dropout between hidden layers\n",
    "    rnn_drop3 = Dropout(0.2)(bidir_rnn3)\n",
    "    \n",
    "    \n",
    "    # : Add a TimeDistributed(Dense(output_dim)) layer\n",
    "    logits = TimeDistributed(Dense(en_vocab_size, activation = 'softmax'))(rnn_drop3)\n",
    "    \n",
    "    model = Model(inputs = input_seq, outputs = logits)\n",
    "    model.compile(loss=sparse_categorical_crossentropy,\n",
    "                  optimizer=Adam(learning_rate),\n",
    "                  metrics=['accuracy'])\n",
    "    print(model.summary())\n",
    "    return model\n",
    "\n",
    "print('bidirectional_rnn_dropout_model')\n",
    "# Train the final model\n",
    "# Reshaping the input\n",
    "tmp_x = pad(preproc_ja_sentences, max_en_sequence_length)\n",
    "tmp_x = tmp_x.reshape((-1, preproc_en_sentences.shape[-2]))\n",
    "\n",
    "# Train the neural network\n",
    "bidirectional_rnn_dropout_model = bidirectional_rnn_dropout_model(\n",
    "    tmp_x.shape,\n",
    "    max_en_sequence_length,\n",
    "    ja_vocab_size,\n",
    "    en_vocab_size)\n",
    "bidirectional_rnn_dropout_model.fit(tmp_x, preproc_en_sentences, batch_size=1024, epochs=10, validation_split=0.2)\n",
    "\n",
    "# Print prediction(s)\n",
    "print(logits_to_text(bidirectional_rnn_dropout_model.predict(tmp_x[:1])[0], en_tokenizer))\n",
    "\n",
    "\"\"\"\n",
    "print(\"---\")"
   ]
  },
  {
   "cell_type": "code",
   "execution_count": null,
   "metadata": {},
   "outputs": [],
   "source": [
    "#save the model\n",
    "#bidirectional_rnn_dropout_model.save('model/bidirectional_rnn_dropout_model2.h5')"
   ]
  },
  {
   "cell_type": "code",
   "execution_count": null,
   "metadata": {},
   "outputs": [],
   "source": [
    "#model = load_model('bidirectional_rnn_dropout_model2.h5')"
   ]
  },
  {
   "cell_type": "code",
   "execution_count": null,
   "metadata": {},
   "outputs": [],
   "source": [
    "# Reshaping the input\n",
    "#test_x = pad(preproc_ja_sentences_test, max_en_sequence_length)\n",
    "#test_x = tmp_x.reshape((-1, preproc_en_sentences_test.shape[-2]))\n",
    "\n",
    "#for i in range(3):\n",
    "#    # Print prediction(s)\n",
    "#    print(ja_sent_token_test[i])\n",
    "#    print(en_sent_token_test[i])\n",
    "#    print(logits_to_text(bidirectional_rnn_dropout_model.predict(test_x[:1])[i], en_tokenizer))\n",
    "    "
   ]
  },
  {
   "cell_type": "code",
   "execution_count": null,
   "metadata": {},
   "outputs": [],
   "source": [
    "wer(result.split(), validation.split())"
   ]
  },
  {
   "cell_type": "code",
   "execution_count": null,
   "metadata": {},
   "outputs": [],
   "source": [
    "print(result.split())\n",
    "print(validation.split())"
   ]
  },
  {
   "cell_type": "code",
   "execution_count": null,
   "metadata": {},
   "outputs": [],
   "source": []
  }
 ],
 "metadata": {
  "kernelspec": {
   "display_name": "Python 3",
   "language": "python",
   "name": "python3"
  },
  "language_info": {
   "codemirror_mode": {
    "name": "ipython",
    "version": 3
   },
   "file_extension": ".py",
   "mimetype": "text/x-python",
   "name": "python",
   "nbconvert_exporter": "python",
   "pygments_lexer": "ipython3",
   "version": "3.6.6"
  }
 },
 "nbformat": 4,
 "nbformat_minor": 2
}
